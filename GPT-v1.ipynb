{
 "cells": [
  {
   "cell_type": "code",
   "execution_count": 1,
   "id": "eddc6497",
   "metadata": {},
   "outputs": [
    {
     "name": "stdout",
     "output_type": "stream",
     "text": [
      "cuda\n"
     ]
    }
   ],
   "source": [
    "# importing library\n",
    "import torch\n",
    "import torch.nn as nn\n",
    "from torch.nn import functional as F\n",
    "device = 'cuda' if torch.cuda.is_available() else 'cpu'\n",
    "print(device)\n",
    "block_size = 64\n",
    "batch_size = 128\n",
    "learning_rate = 3e-4\n",
    "max_iters = 3000\n",
    "eval_iters = 250\n",
    "n_embd = 384              # length of embedding vector\n",
    "n_layer= 8                # determine number of decoder or encoder\n",
    "n_head = 8                # 4 heads = 4 decoder \n",
    "dropout = 0.2             # dropping 20% neuron"
   ]
  },
  {
   "cell_type": "code",
   "execution_count": 2,
   "id": "62b4b508",
   "metadata": {},
   "outputs": [
    {
     "name": "stdout",
     "output_type": "stream",
     "text": [
      "['\\n', ' ', '!', '\"', '&', \"'\", '(', ')', '*', ',', '-', '.', '0', '1', '2', '3', '4', '5', '6', '7', '8', '9', ':', ';', '?', 'A', 'B', 'C', 'D', 'E', 'F', 'G', 'H', 'I', 'J', 'K', 'L', 'M', 'N', 'O', 'P', 'Q', 'R', 'S', 'T', 'U', 'V', 'W', 'X', 'Y', 'Z', '[', ']', '_', 'a', 'b', 'c', 'd', 'e', 'f', 'g', 'h', 'i', 'j', 'k', 'l', 'm', 'n', 'o', 'p', 'q', 'r', 's', 't', 'u', 'v', 'w', 'x', 'y', 'z', '\\ufeff']\n"
     ]
    }
   ],
   "source": [
    "# This method is not suitable for large corpus of data like openweb text so we need some data preprocessing\n",
    "with open(\"wizard_of_oz.txt\", 'r', encoding='utf-8') as f:\n",
    "    text = f.read()\n",
    "chars = sorted(set(text))           # provide sorted set of all characters present in wizard_of_oz.txt\n",
    "print(chars)\n",
    "vocab_size = len(chars)"
   ]
  },
  {
   "cell_type": "code",
   "execution_count": 3,
   "id": "ae8f39b2",
   "metadata": {},
   "outputs": [],
   "source": [
    "# character tokenizer : less vocab\n",
    "string_to_int = { ch:i for i,ch in enumerate(chars)}      # encoding each character from 0 to len(chars) e.g 'A' : 0\n",
    "int_to_string = {i:ch for i,ch in enumerate(chars)}       # encoding each index from starting character to end 0 : 'A'\n",
    "encode = lambda s: [string_to_int[c] for c in s]          # lamda function : takes string and encode each char to integer\n",
    "decode = lambda l: ''.join([int_to_string[i] for i in l]) # takes a list of integer and encode it to char, form string using .join()"
   ]
  },
  {
   "cell_type": "code",
   "execution_count": 4,
   "id": "9bea8777",
   "metadata": {},
   "outputs": [
    {
     "data": {
      "text/plain": [
       "[61, 58, 65, 65, 68]"
      ]
     },
     "execution_count": 4,
     "metadata": {},
     "output_type": "execute_result"
    }
   ],
   "source": [
    "encoded_hello = encode('hello')\n",
    "encoded_hello"
   ]
  },
  {
   "cell_type": "code",
   "execution_count": 5,
   "id": "95494e6c",
   "metadata": {},
   "outputs": [
    {
     "data": {
      "text/plain": [
       "'hello'"
      ]
     },
     "execution_count": 5,
     "metadata": {},
     "output_type": "execute_result"
    }
   ],
   "source": [
    "decoded_number = decode(encoded_hello)\n",
    "decoded_number"
   ]
  },
  {
   "cell_type": "code",
   "execution_count": 6,
   "id": "844c5105",
   "metadata": {},
   "outputs": [
    {
     "name": "stdout",
     "output_type": "stream",
     "text": [
      "tensor([80,  1,  1, 28, 39, 42, 39, 44, 32, 49,  1, 25, 38, 28,  1, 44, 32, 29,\n",
      "         1, 47, 33, 50, 25, 42, 28,  1, 33, 38,  1, 39, 50,  0,  0,  1,  1, 26,\n",
      "        49,  0,  0,  1,  1, 36, 11,  1, 30, 42, 25, 38, 35,  1, 26, 25, 45, 37,\n",
      "         0,  0,  1,  1, 25, 45, 44, 32, 39, 42,  1, 39, 30,  1, 44, 32, 29,  1,\n",
      "        47, 33, 50, 25, 42, 28,  1, 39, 30,  1, 39, 50,  9,  1, 44, 32, 29,  1,\n",
      "        36, 25, 38, 28,  1, 39, 30,  1, 39, 50])\n"
     ]
    }
   ],
   "source": [
    "# using pytoch\n",
    "data = torch.tensor(encode(text), dtype=torch.long)\n",
    "print(data[:100])"
   ]
  },
  {
   "cell_type": "code",
   "execution_count": 7,
   "id": "b965d4bc",
   "metadata": {},
   "outputs": [
    {
     "name": "stdout",
     "output_type": "stream",
     "text": [
      "inputs:\n",
      "tensor([[75, 58, 57,  ..., 59,  1, 56],\n",
      "        [65, 78,  1,  ..., 68, 72, 73],\n",
      "        [74, 73,  1,  ..., 68, 76, 58],\n",
      "        ...,\n",
      "        [ 0,  3, 39,  ..., 35, 54, 67],\n",
      "        [74, 73,  1,  ..., 54, 72, 58],\n",
      "        [ 1, 73, 61,  ...,  0,  0,  3]], device='cuda:0')\n",
      "targets:\n",
      "tensor([[58, 57,  1,  ...,  1, 56, 68],\n",
      "        [78,  1, 67,  ..., 72, 73,  1],\n",
      "        [73,  1, 68,  ..., 76, 58, 57],\n",
      "        ...,\n",
      "        [ 3, 39, 67,  ..., 54, 67, 72],\n",
      "        [73,  1, 67,  ..., 72, 58,  1],\n",
      "        [73, 61, 54,  ...,  0,  3, 47]], device='cuda:0')\n"
     ]
    }
   ],
   "source": [
    "# creating training and test set\n",
    "n= int(0.8*len(text))                        # 80%  of text\n",
    "train_data = data[:n]                        # start to 80%\n",
    "val_data = data[n:]                              # 80% to 100% : 20% as validation\n",
    "\n",
    "def get_batch(split):\n",
    "    data = train_data if split == 'train' else val_data\n",
    "    ix = torch.randint(len(data) - block_size, (batch_size,))        # select the random starting point for subsequences\n",
    "    x = torch.stack([data[i:i+block_size] for i in ix])              # select the input of block size randomly and stack\n",
    "    y = torch.stack([data[i+1:i+block_size+1] for i in ix])          # select the target of block size randomly and stack\n",
    "    x,y = x.to(device), y.to(device)\n",
    "    return x,y                                                      # x: e.g from 0to5 , y: e.g from 1 to 6  so its like  predicting a next character                                             \n",
    "x,y = get_batch('train')\n",
    "print('inputs:')\n",
    "print(x)\n",
    "print('targets:')\n",
    "print(y)"
   ]
  },
  {
   "cell_type": "code",
   "execution_count": 8,
   "id": "11bd197b",
   "metadata": {},
   "outputs": [
    {
     "name": "stdout",
     "output_type": "stream",
     "text": [
      "when input is tensor([80]) target is tensor(1)\n",
      "when input is tensor([80,  1]) target is tensor(1)\n",
      "when input is tensor([80,  1,  1]) target is tensor(28)\n",
      "when input is tensor([80,  1,  1, 28]) target is tensor(39)\n",
      "when input is tensor([80,  1,  1, 28, 39]) target is tensor(42)\n",
      "when input is tensor([80,  1,  1, 28, 39, 42]) target is tensor(39)\n",
      "when input is tensor([80,  1,  1, 28, 39, 42, 39]) target is tensor(44)\n",
      "when input is tensor([80,  1,  1, 28, 39, 42, 39, 44]) target is tensor(32)\n"
     ]
    }
   ],
   "source": [
    "#@ processing sequential data\n",
    "block_size = 8\n",
    "\n",
    "x = train_data[:block_size]\n",
    "y = train_data[1:block_size + 1]\n",
    "\n",
    "for t in range(block_size):\n",
    "    context = x[:t+1]\n",
    "    target = y[t]\n",
    "    print('when input is', context, 'target is', target)"
   ]
  },
  {
   "cell_type": "code",
   "execution_count": 9,
   "id": "6d64f6c9",
   "metadata": {},
   "outputs": [],
   "source": [
    "#@ Implementaton of GPT language model\n",
    "class Head(nn.Module):\n",
    "    \"\"\" One head of self attention \"\"\"\n",
    "    \n",
    "    def __init__(self, head_size):\n",
    "        super().__init__()\n",
    "        self.key = nn.Linear(n_embd, head_size, bias=False)\n",
    "        self.query = nn.Linear(n_embd, head_size, bias=False)\n",
    "        self.value = nn.Linear(n_embd, head_size, bias=False)\n",
    "        self.register_buffer('tril', torch.tril(torch.ones(block_size, block_size)))      # for masking multi head\n",
    "        \n",
    "        self.dropout = nn.Dropout(dropout)\n",
    "        \n",
    "    def forward(self, x):\n",
    "        # input of size (batch, timestep, channels)\n",
    "        # output of size (batch, timestep, head_size)\n",
    "        B,T,C = x.shape                        # unpacking the shape\n",
    "        k = self.key(x)                        # B,T,hs\n",
    "        q = self.query(x)                      # B,T,hs\n",
    "        # compute attention scores\n",
    "        wei = q @ k.transpose(-2,-1) * k.shape[-1]**-0.5                            # (B,T,hs) @ (B,hs,T) = (B,T,T)\n",
    "        wei = wei.masked_fill(self.tril[:T, :T] == 0, float('-inf'))                # (B,T,T) : mask and form lower triangular matrix\n",
    "        wei = F.softmax(wei, dim=-1)                                                # apply softmax block wise and highlight the value\n",
    "        wei = self.dropout(wei)                                                     \n",
    "        # perform the weighted aggregation of the values\n",
    "        v = self.value(x)                         # B,T,hs\n",
    "        out =  wei @ v                            # (B,T,T) @ (B,T,hs) = (B,T,hs)\n",
    "        return out\n",
    "    \n",
    "    \n",
    "class MultiHeadAttention(nn.Module):                                                # Multihead attention : Determine attention for multiple head\n",
    "    def __init__(self,num_heads, head_size):\n",
    "        super().__init__()\n",
    "        self.heads = nn.ModuleList([Head(head_size) for _ in range(num_heads)])           \n",
    "        self.proj = nn.Linear(head_size * num_heads, n_embd )\n",
    "        self.dropout = nn.Dropout(dropout)\n",
    "        \n",
    "    def forward(self,x):\n",
    "        out = torch.cat([h(x) for h in self.heads], dim = -1)            # (B:batch,T:time,C:feature) : [h1,h1,h1,h1,h2,h2,h2,h2.....,hn,hn,hn,hn]\n",
    "        out = self.dropout(self.proj(out))\n",
    "        return out\n",
    "    \n",
    "class FeedForward(nn.Module):               # feedforward of decoder \n",
    "    def __init__(self, n_embd):             # linear -> RELU -> Linear\n",
    "        super().__init__()\n",
    "        self.net = nn.Sequential(\n",
    "        nn.Linear(n_embd, 4*n_embd),\n",
    "        nn.ReLU(),\n",
    "        nn.Linear(4 * n_embd, n_embd),\n",
    "        nn.Dropout(dropout),)\n",
    "    def forward(self,x):\n",
    "        return self.net(x)\n",
    "        \n",
    "class Block(nn.Module):\n",
    "    #Transformer block : communication followed by computation\n",
    "    \n",
    "    def __init__(self,n_embd,n_head):  # constructor initializing decoder member item\n",
    "        #n_embd : embedding dimension , n_head: the number of heads we'd like\n",
    "        super().__init__()\n",
    "        head_size = n_embd // n_head                    # number of feature each head is caputring\n",
    "        self.sa = MultiHeadAttention(n_head, head_size)\n",
    "        self.ffwd = FeedForward(n_embd)\n",
    "        self.ln1 = nn.LayerNorm(n_embd)\n",
    "        self.ln2 = nn.LayerNorm(n_embd)\n",
    "        \n",
    "    def forward(self,x):            # forming deocder block         \n",
    "        y = self.sa(x)              # multihead attention\n",
    "        x = self.ln1(x+y)           # Adding and norm\n",
    "        y = self.ffwd(x)            # feedforward : Linear -> RELU -> Linear\n",
    "        x = self.ln2(x + y)         # Adding and norm\n",
    "        return x\n",
    "    \n",
    "\n",
    "class GPTLanguageModel(nn.Module):\n",
    "    \n",
    "    def __init__(self,vocab_size):\n",
    "        super().__init__()\n",
    "        self.token_embedding_table = nn.Embedding(vocab_size, n_embd)           # token embedding \n",
    "        self.position_embedding_table = nn.Embedding(block_size, n_embd)        # positional embedding \n",
    "        \n",
    "        # decoder \n",
    "        self.blocks = nn.Sequential(*[Block(n_embd, n_head=n_head) for i in range(n_layer)])  # providing  decoder = n_layer sequentially\n",
    "        \n",
    "        self.ln_f = nn.LayerNorm(n_embd) # final layer norm\n",
    "        self.lm_head = nn.Linear(n_embd, vocab_size)  \n",
    "        self.apply(self._init_weights)\n",
    "        \n",
    "        \n",
    "    def _init_weights(self, module):                                            # weight initialization\n",
    "        if isinstance(module, nn.Linear):\n",
    "            torch.nn.init.normal_(module.weight, mean=0.0, std=0.02)\n",
    "            if module.bias is not None:\n",
    "                torch.nn.init.zeros_(module.bias)                               # set bias to zeros\n",
    "        elif isinstance(module, nn.Embedding):                                  # if module is object of nn.Embedding \n",
    "            torch.nn.init.normal_(module.weight, mean=0.0, std=0.02)            # normal initialization of weights with less variation\n",
    "    \n",
    "    \n",
    "    def forward(self, index, targets = None):\n",
    "        B,T = index.shape\n",
    "        # index and targets are both (B,T) tensor of integers\n",
    "        tok_embd = self.token_embedding_table(index)       # (B,T,C)\n",
    "        pos_embd = self.position_embedding_table(torch.arange(T, device=device))  # (T,C)\n",
    "        x= tok_embd + pos_embd                                                    # (B,T,C ) by broadcasting\n",
    "        x= self.blocks(x)                                                         # decoder \n",
    "        x= self.ln_f(x)                                                           # layer normalizing\n",
    "        logits= self.lm_head(x)                                                   # (B,T,vocab_size)\n",
    "                                                                                   \n",
    "        if targets is None:\n",
    "            loss = None\n",
    "        else:\n",
    "            B, T, C  = logits.shape                       # B (batch size), T (sequence length), and C (embedding dimensions)\n",
    "            logits = logits.view(B*T, C)                  # reshape to total word, embedding dimension\n",
    "            targets = targets.view(B*T)\n",
    "            loss = F.cross_entropy(logits, targets)       # loss between predicted logits and actual logits\n",
    "        return logits, loss                               # return predicted logits and loss\n",
    "    \n",
    "    def generate(self , index, max_new_tokens):\n",
    "        # index is (B,t) array of indices in the current context\n",
    "        for i in range(max_new_tokens):\n",
    "            logits, loss = self.forward(index)            # get the predictions\n",
    "            # focus on the last step only\n",
    "            logits = logits[:,-1,:]                       # becomes (B,C)\n",
    "            # apply softmax to get prob.\n",
    "            probs = F.softmax(logits, dim=-1)             # (B,C)\n",
    "            # sample from the distribution\n",
    "            index_next = torch.multinomial(probs, num_samples =1) # (B,1)\n",
    "            # append sampled inext to the running sequene\n",
    "            index = torch.cat((index, index_next), dim=1)        # (B, T+1)\n",
    "        return index\n",
    "    \n",
    "model = GPTLanguageModel(vocab_size)\n",
    "m = model.to(device)"
   ]
  },
  {
   "cell_type": "code",
   "execution_count": 10,
   "id": "aa36adc9",
   "metadata": {},
   "outputs": [],
   "source": [
    "@torch.no_grad()\n",
    "def estimate_loss():\n",
    "    out = {}\n",
    "    model.eval()\n",
    "    for split in ['train', 'val']:\n",
    "        losses = torch.zeros(eval_iters)\n",
    "        for k in range(eval_iters):\n",
    "            X, Y = get_batch(split)\n",
    "            logits,loss = model(X,Y)\n",
    "            losses[k] = loss.item()\n",
    "        out[split]  = losses.mean()\n",
    "    model.train()\n",
    "    return out"
   ]
  },
  {
   "cell_type": "code",
   "execution_count": 11,
   "id": "e15384b1",
   "metadata": {},
   "outputs": [
    {
     "name": "stdout",
     "output_type": "stream",
     "text": [
      "step: 0, train loss : 4.468, val_loss: 4.463 \n",
      "step: 250, train loss : 1.955, val_loss: 2.059 \n",
      "step: 500, train loss : 1.791, val_loss: 1.915 \n",
      "step: 750, train loss : 1.721, val_loss: 1.872 \n",
      "step: 1000, train loss : 1.675, val_loss: 1.824 \n",
      "step: 1250, train loss : 1.640, val_loss: 1.816 \n",
      "step: 1500, train loss : 1.611, val_loss: 1.783 \n",
      "step: 1750, train loss : 1.585, val_loss: 1.766 \n",
      "step: 2000, train loss : 1.568, val_loss: 1.746 \n",
      "step: 2250, train loss : 1.549, val_loss: 1.742 \n",
      "step: 2500, train loss : 1.538, val_loss: 1.734 \n",
      "step: 2750, train loss : 1.529, val_loss: 1.728 \n",
      "1.5951141119003296\n"
     ]
    }
   ],
   "source": [
    "# create a pytorch optimizer\n",
    "optimizer =  torch.optim.AdamW(model.parameters(),lr=learning_rate)            # AdamW as optimizer\n",
    "for iter in range(max_iters):\n",
    "    if iter % eval_iters == 0:\n",
    "        losses = estimate_loss()\n",
    "        print(f\"step: {iter}, train loss : {losses['train']:.3f}, val_loss: {losses['val']:.3f} \")\n",
    "    xb, yb = get_batch('train')                                                    # sample a batch of data\n",
    "    \n",
    "    logits,loss = model.forward(xb,yb)                                             # forward props\n",
    "    optimizer.zero_grad(set_to_none = True)\n",
    "    loss.backward()\n",
    "    optimizer.step()\n",
    "print(loss.item())"
   ]
  },
  {
   "cell_type": "code",
   "execution_count": 17,
   "id": "d8ba0739",
   "metadata": {},
   "outputs": [
    {
     "ename": "RuntimeError",
     "evalue": "CUDA error: device-side assert triggered\nCUDA kernel errors might be asynchronously reported at some other API call, so the stacktrace below might be incorrect.\nFor debugging consider passing CUDA_LAUNCH_BLOCKING=1.\nCompile with `TORCH_USE_CUDA_DSA` to enable device-side assertions.\n",
     "output_type": "error",
     "traceback": [
      "\u001b[1;31m---------------------------------------------------------------------------\u001b[0m",
      "\u001b[1;31mRuntimeError\u001b[0m                              Traceback (most recent call last)",
      "Cell \u001b[1;32mIn[17], line 1\u001b[0m\n\u001b[1;32m----> 1\u001b[0m context \u001b[38;5;241m=\u001b[39m \u001b[43mtorch\u001b[49m\u001b[38;5;241;43m.\u001b[39;49m\u001b[43mzeros\u001b[49m\u001b[43m(\u001b[49m\u001b[43m(\u001b[49m\u001b[38;5;241;43m1\u001b[39;49m\u001b[43m,\u001b[49m\u001b[38;5;241;43m1\u001b[39;49m\u001b[43m)\u001b[49m\u001b[43m,\u001b[49m\u001b[43m \u001b[49m\u001b[43mdtype\u001b[49m\u001b[38;5;241;43m=\u001b[39;49m\u001b[43mtorch\u001b[49m\u001b[38;5;241;43m.\u001b[39;49m\u001b[43mlong\u001b[49m\u001b[43m,\u001b[49m\u001b[43m \u001b[49m\u001b[43mdevice\u001b[49m\u001b[38;5;241;43m=\u001b[39;49m\u001b[43mdevice\u001b[49m\u001b[43m)\u001b[49m\n\u001b[0;32m      2\u001b[0m \u001b[38;5;28mprint\u001b[39m(context)\n\u001b[0;32m      3\u001b[0m generated_chars \u001b[38;5;241m=\u001b[39m decode(m\u001b[38;5;241m.\u001b[39mgenerate(context, max_new_tokens\u001b[38;5;241m=\u001b[39m\u001b[38;5;241m500\u001b[39m)[\u001b[38;5;241m0\u001b[39m]\u001b[38;5;241m.\u001b[39mtolist())\n",
      "\u001b[1;31mRuntimeError\u001b[0m: CUDA error: device-side assert triggered\nCUDA kernel errors might be asynchronously reported at some other API call, so the stacktrace below might be incorrect.\nFor debugging consider passing CUDA_LAUNCH_BLOCKING=1.\nCompile with `TORCH_USE_CUDA_DSA` to enable device-side assertions.\n"
     ]
    }
   ],
   "source": [
    "context = torch.zeros((1,1), dtype=torch.long, device=device)\n",
    "print(context)\n",
    "generated_chars = decode(m.generate(context, max_new_tokens=500)[0].tolist())\n",
    "print(generated_chars)\n",
    "    "
   ]
  },
  {
   "cell_type": "code",
   "execution_count": null,
   "id": "ba6fcaf6",
   "metadata": {},
   "outputs": [],
   "source": []
  }
 ],
 "metadata": {
  "kernelspec": {
   "display_name": "cuda-gpt",
   "language": "python",
   "name": "cuda"
  },
  "language_info": {
   "codemirror_mode": {
    "name": "ipython",
    "version": 3
   },
   "file_extension": ".py",
   "mimetype": "text/x-python",
   "name": "python",
   "nbconvert_exporter": "python",
   "pygments_lexer": "ipython3",
   "version": "3.11.3"
  }
 },
 "nbformat": 4,
 "nbformat_minor": 5
}
